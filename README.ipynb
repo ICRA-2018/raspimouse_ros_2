{
 "cells": [
  {
   "cell_type": "markdown",
   "metadata": {},
   "source": [
    "[![Build Status](https://travis-ci.org/ryuichiueda/raspimouse_ros_2.svg?branch=master)](https://travis-ci.org/ryuichiueda/raspimouse_ros_2)\n",
    "\n",
    "# raspimouse_ros_2\n",
    "\n",
    "The current version of the ROS base package for Raspberry Pi Mouse. This package is derived from \"pimouse_ros\" package, which is coded for the book from Nikkei BP.\n",
    "* old versions: [ryuichiueda/raspimouse_ros](https://github.com/ryuichiueda/raspimouse_ros)\n",
    "\n",
    "## Requirements\n",
    "\n",
    "This package requires the following to run:\n",
    "\n",
    "* Ubuntu\n",
    "  * Ubuntu 16.04\n",
    "  * Ubuntu MATE 16.04\n",
    "* ROS \n",
    "  * ROS Kinetic Kame\n",
    "* Device Driver\n",
    "  * [rt-net/RaspberryPiMouse](https://github.com/rt-net/RaspberryPiMouse)\n",
    "\n",
    "## Installation\n",
    "\n",
    "### 1. Install the latest stable version of ROS.  \n",
    "\n",
    "Please refer to [ROS WiKi](http://wiki.ros.org/kinetic/Installation) for installation, or run the following ros setup scripts.\n",
    "* [ryuichiueda/ros_setup_scripts_Ubuntu16.04_server](https://github.com/ryuichiueda/ros_setup_scripts_Ubuntu16.04_server)\n",
    "\n",
    "### 2. Download and install device driver.  \n",
    "\n",
    "Please refer to [rt-net/RaspberryPiMouse](https://github.com/rt-net/RaspberryPiMouse) for download and installation.\n",
    "\n",
    "### 3. Make a workspace."
   ]
  },
  {
   "cell_type": "code",
   "execution_count": null,
   "metadata": {},
   "outputs": [],
   "source": [
    "mkdir -p ~/catkin_ws/src\n",
    "cd ~/catkin_ws/src\n",
    "catkin_init_worksapce\n",
    "cd ~/catkin_ws\n",
    "catkin_make"
   ]
  },
  {
   "cell_type": "markdown",
   "metadata": {},
   "source": [
    "Delete the following line from `~/.bashrc`:"
   ]
  },
  {
   "cell_type": "code",
   "execution_count": null,
   "metadata": {},
   "outputs": [],
   "source": [
    "source /opt/ros/kinetic/setup.bash"
   ]
  },
  {
   "cell_type": "markdown",
   "metadata": {},
   "source": [
    "Add the follwing line to `~/.bashrc`:"
   ]
  },
  {
   "cell_type": "code",
   "execution_count": null,
   "metadata": {},
   "outputs": [],
   "source": [
    "source ~/catkin_ws/devel/setup.bash"
   ]
  },
  {
   "cell_type": "markdown",
   "metadata": {},
   "source": [
    "### 4. Download this repository into `~/catkin_ws/src`."
   ]
  },
  {
   "cell_type": "code",
   "execution_count": null,
   "metadata": {},
   "outputs": [],
   "source": [
    "cd ~/catkin_ws/src\n",
    "git clone https://github.com/ryuichiueda/raspimouse_ros_2.git"
   ]
  },
  {
   "cell_type": "markdown",
   "metadata": {},
   "source": [
    "### 5. Resolve the system dependencies."
   ]
  },
  {
   "cell_type": "code",
   "execution_count": null,
   "metadata": {},
   "outputs": [],
   "source": [
    "rosdep install raspimouse_ros_2"
   ]
  },
  {
   "cell_type": "markdown",
   "metadata": {},
   "source": [
    "### 6. Build this repository."
   ]
  },
  {
   "cell_type": "code",
   "execution_count": null,
   "metadata": {},
   "outputs": [],
   "source": [
    "cd ~/catkin_ws\n",
    "catkin_make\n",
    "source ~/catkin_ws/devel/setup.bash"
   ]
  },
  {
   "cell_type": "markdown",
   "metadata": {},
   "source": [
    "### 7. Test with the buzzer node"
   ]
  },
  {
   "cell_type": "code",
   "execution_count": null,
   "metadata": {},
   "outputs": [],
   "source": [
    "roslaunch raspimouse_ros_2 raspimouse.launch\n",
    "rostopic pub /buzzer std_msgs/UInt16 1000"
   ]
  },
  {
   "cell_type": "markdown",
   "metadata": {},
   "source": [
    "## Support of RT-USB-9axisIMU2\n",
    "\n",
    "If you have an RT-USB-9axisIMU2 9-axis sensor, its z angular velocity can be reflected to the `/odom` topic. \n",
    "\n",
    "\n",
    "### requirement\n",
    "\n",
    "* hardware: RT-USB-9axisIMU2 (text mode)\n",
    "* software: https://github.com/AtsushiSaito/rt_usb_9axis_sensor\n",
    "\n",
    "### configuration\n",
    "\n",
    "Please set `1` to the argument `imu`. When you want to use this feature permanently, please rewrite the arg element of raspimouse.launch as follows."
   ]
  },
  {
   "cell_type": "code",
   "execution_count": null,
   "metadata": {
    "attributes": {
     "classes": [
      "raspimouse.launch "
     ],
     "id": ""
    }
   },
   "outputs": [],
   "source": [
    "<launch>\n",
    "  <arg name=\"imu\" default=\"1\" />   <!-- change from 0 to 1 -->\n",
    "    <include if=\"$(arg imu)\" file=\"$(find rt_usb_9axis_sensor)/launch/rt_usb_9axis_sensor.launch\" />\n",
    "..."
   ]
  }
 ],
 "metadata": {},
 "nbformat": 4,
 "nbformat_minor": 2
}
